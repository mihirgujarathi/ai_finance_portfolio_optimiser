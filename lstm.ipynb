{
 "cells": [
  {
   "cell_type": "code",
   "execution_count": 1,
   "metadata": {},
   "outputs": [],
   "source": [
    "import requests\n",
    "import time\n",
    "import json\n",
    "import os\n",
    "from datetime import datetime\n",
    "\n",
    "import pandas as pd\n",
    "import numpy as np\n",
    "import matplotlib.pyplot as plt\n",
    "import seaborn as sns\n",
    "\n",
    "from dotenv import load_dotenv"
   ]
  },
  {
   "cell_type": "code",
   "execution_count": 2,
   "metadata": {},
   "outputs": [],
   "source": [
    "load_dotenv()\n",
    "API_KEY = os.getenv(\"API_KEY\")"
   ]
  },
  {
   "cell_type": "code",
   "execution_count": 3,
   "metadata": {},
   "outputs": [],
   "source": [
    "STOCKS = [\"AAPL\", \"MSFT\", \"TSLA\", \"GOOGL\", \"AMZN\"]\n",
    "BASE_URL = \"https://www.alphavantage.co/query\""
   ]
  },
  {
   "cell_type": "code",
   "execution_count": null,
   "metadata": {},
   "outputs": [
    {
     "ename": "AttributeError",
     "evalue": "'dict' object has no attribute 'to_csv'",
     "output_type": "error",
     "traceback": [
      "\u001b[1;31m---------------------------------------------------------------------------\u001b[0m",
      "\u001b[1;31mAttributeError\u001b[0m                            Traceback (most recent call last)",
      "Input \u001b[1;32mIn [4]\u001b[0m, in \u001b[0;36m<cell line: 37>\u001b[1;34m()\u001b[0m\n\u001b[0;32m     35\u001b[0m \u001b[38;5;66;03m# Fetch data\u001b[39;00m\n\u001b[0;32m     36\u001b[0m stock_data \u001b[38;5;241m=\u001b[39m get_alpha_vantage_data(API_KEY, function, STOCKS[\u001b[38;5;241m0\u001b[39m], extra_params)\n\u001b[1;32m---> 37\u001b[0m \u001b[43mstock_data\u001b[49m\u001b[38;5;241;43m.\u001b[39;49m\u001b[43mto_csv\u001b[49m(\u001b[38;5;124mf\u001b[39m\u001b[38;5;124m\"\u001b[39m\u001b[38;5;132;01m{\u001b[39;00mSTOCKS[\u001b[38;5;241m0\u001b[39m]\u001b[38;5;132;01m}\u001b[39;00m\u001b[38;5;124m_stock_data.csv\u001b[39m\u001b[38;5;124m\"\u001b[39m)\n",
      "\u001b[1;31mAttributeError\u001b[0m: 'dict' object has no attribute 'to_csv'"
     ]
    }
   ],
   "source": [
    "def get_alpha_vantage_data(api_key, function, symbol, params={}):\n",
    "    \"\"\"\n",
    "    Fetches data from the Alpha Vantage API based on the given function and stock symbol.\n",
    "\n",
    "    Parameters:\n",
    "        api_key (str): Your Alpha Vantage API key.\n",
    "        function (str): Alpha Vantage function (e.g., \"TIME_SERIES_DAILY\", \"TIME_SERIES_INTRADAY\").\n",
    "        symbol (str): Stock symbol (e.g., \"AAPL\").\n",
    "        params (dict): Additional API parameters (e.g., {\"interval\": \"5min\", \"outputsize\": \"compact\"}).\n",
    "\n",
    "    Returns:\n",
    "        dict: API response as a dictionary.\n",
    "    \"\"\"\n",
    "    # Base URL for Alpha Vantage\n",
    "    base_url = \"https://www.alphavantage.co/query\"\n",
    "    \n",
    "    # Construct API request parameters\n",
    "    request_params = {\"function\": function, \"symbol\": symbol, \"apikey\": api_key}\n",
    "    request_params.update(params)  # Add additional parameters if provided\n",
    "    \n",
    "    # Send API request\n",
    "    response = requests.get(base_url, params=request_params)\n",
    "    \n",
    "    # Parse response as JSON\n",
    "    data = response.json()\n",
    "\n",
    "    return data\n",
    "\n",
    "# Example Usage:\n",
    "function = \"TIME_SERIES_DAILY\"  # Change to \"TIME_SERIES_INTRADAY\" or other functions\n",
    "\n",
    "# Additional parameters (optional)\n",
    "extra_params = {\"outputsize\": \"full\"}  # Use \"full\" for more data\n",
    "\n",
    "# Fetch data\n",
    "stock_data = get_alpha_vantage_data(API_KEY, function, STOCKS[0], extra_params)"
   ]
  },
  {
   "cell_type": "code",
   "execution_count": null,
   "metadata": {},
   "outputs": [],
   "source": [
    "pd.to_csv(stock_data, f\"{STOCKS[0]}_stock_data.csv\")"
   ]
  }
 ],
 "metadata": {
  "kernelspec": {
   "display_name": "base",
   "language": "python",
   "name": "python3"
  },
  "language_info": {
   "codemirror_mode": {
    "name": "ipython",
    "version": 3
   },
   "file_extension": ".py",
   "mimetype": "text/x-python",
   "name": "python",
   "nbconvert_exporter": "python",
   "pygments_lexer": "ipython3",
   "version": "3.9.12"
  }
 },
 "nbformat": 4,
 "nbformat_minor": 2
}
